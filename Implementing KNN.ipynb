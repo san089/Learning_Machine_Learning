{
 "cells": [
  {
   "cell_type": "code",
   "execution_count": 96,
   "metadata": {},
   "outputs": [],
   "source": [
    "import pandas as pd\n",
    "import numpy as np\n",
    "from sklearn.model_selection import train_test_split\n",
    "from sklearn.datasets import load_iris\n",
    "import math\n",
    "from collections import Counter"
   ]
  },
  {
   "cell_type": "code",
   "execution_count": 74,
   "metadata": {},
   "outputs": [],
   "source": [
    "def find_dist(row , test_df):\n",
    "    '''\n",
    "    This method takes the complete list of features and the values of the dataframe for prediction and calculates\n",
    "    the result based on those.\n",
    "    '''\n",
    "    for col in row.index:\n",
    "        if col not in ['distance', 'group']:\n",
    "            row['distance'] += abs(row[col] - test_df[col])  \n",
    "    return row['distance']"
   ]
  },
  {
   "cell_type": "code",
   "execution_count": 147,
   "metadata": {},
   "outputs": [],
   "source": [
    "class KNN:\n",
    "    '''\n",
    "    Implementing KNN algorith based on Eucledean distance as the distance matrix\n",
    "    '''\n",
    "    training_df = None\n",
    "    result_df = None\n",
    "    test_df = None\n",
    "    predict_df = None\n",
    "    \n",
    "    def __init__(self, N = 1):\n",
    "        self.N = N\n",
    "        \n",
    "    def fit(self, training_df , result_df):\n",
    "        self.training_df = pd.DataFrame(data = training_df)\n",
    "        self.result_df = result_df\n",
    "        self.predict_df = self.training_df.copy()\n",
    "        self.predict_df['distance'] = 0\n",
    "        self.predict_df['group'] = self.result_df\n",
    "        \n",
    "    def predict(self , test_df):\n",
    "        self.test_df = pd.DataFrame(data=test_df)\n",
    "        return self.with_pandas_apply()\n",
    "        \n",
    "    def with_pandas_apply(self):\n",
    "        #Specify axis = 1 to return the complete row to the function, else axis = 0 to send the complete column.\n",
    "                \n",
    "        self.predict_df['distance'] = self.predict_df.apply(find_dist ,axis = 1 ,args = (self.test_df,))\n",
    "        return self.calculate_result()\n",
    "        \n",
    "    def calculate_result(self):\n",
    "        '''\n",
    "        This method will sort the dataframe based on the distance between the points. Fetch the top N results and\n",
    "        return the most occured group value.\n",
    "        '''\n",
    "        self.predict_df.sort_values(by = 'distance', ascending=True , inplace= True)\n",
    "        result_list = self.predict_df.head(self.N)['group'].value_counts().idxmax()\n",
    "        \n",
    "        return result_list"
   ]
  },
  {
   "cell_type": "code",
   "execution_count": 148,
   "metadata": {},
   "outputs": [
    {
     "name": "stdout",
     "output_type": "stream",
     "text": [
      "1\n"
     ]
    }
   ],
   "source": [
    "if __name__ == \"__main__\":\n",
    "    knn = KNN(N=5)\n",
    "    x , y = load_iris(return_X_y= True)\n",
    "    x_train , x_test , y_train , y_test = train_test_split(x , y , test_size = 0.3 , random_state = 400)\n",
    "    knn.fit(x_train,y_train)\n",
    "    output = knn.predict([[6.3,3.3,4.7,1.6]])\n",
    "    \n",
    "    print(output)"
   ]
  }
 ],
 "metadata": {
  "kernelspec": {
   "display_name": "Python 3",
   "language": "python",
   "name": "python3"
  },
  "language_info": {
   "codemirror_mode": {
    "name": "ipython",
    "version": 3
   },
   "file_extension": ".py",
   "mimetype": "text/x-python",
   "name": "python",
   "nbconvert_exporter": "python",
   "pygments_lexer": "ipython3",
   "version": "3.7.1"
  }
 },
 "nbformat": 4,
 "nbformat_minor": 2
}
