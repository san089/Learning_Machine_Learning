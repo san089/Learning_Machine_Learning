{
 "cells": [
  {
   "cell_type": "code",
   "execution_count": 59,
   "metadata": {},
   "outputs": [],
   "source": [
    "import pandas as pd\n",
    "import numpy as np\n",
    "from sklearn.model_selection import train_test_split\n",
    "from sklearn.datasets import load_iris\n",
    "import math"
   ]
  },
  {
   "cell_type": "code",
   "execution_count": 146,
   "metadata": {},
   "outputs": [],
   "source": [
    "def find_dist(val):\n",
    "    print(type(val))"
   ]
  },
  {
   "cell_type": "code",
   "execution_count": 144,
   "metadata": {},
   "outputs": [],
   "source": [
    "class KNN:\n",
    "    '''\n",
    "    Implementing KNN algorith based on Eucledean distance as the distance matrix\n",
    "    '''\n",
    "    training_df = None\n",
    "    result_df = None\n",
    "    test_df = None\n",
    "    predict_df = None\n",
    "    \n",
    "    def __init__(self, N = 1):\n",
    "        self.N = N\n",
    "        \n",
    "    def fit(self, training_df , result_df):\n",
    "        self.training_df = pd.DataFrame(data = training_df)\n",
    "        self.result_df = result_df\n",
    "        self.predict_df = self.training_df.copy()\n",
    "        self.predict_df['distance'] = 0\n",
    "        \n",
    "    def find_distance(self):\n",
    "        \n",
    "        for i in self.test_df.index:\n",
    "            for row_training in self.training_df.index:\n",
    "                dist = 0\n",
    "                print(row_training)\n",
    "                for j in self.training_df.columns:\n",
    "                    dist += abs(self.training_df.loc[row_training,j] - self.test_df.loc[i,j])\n",
    "                self.training_df.loc[row_training,'distance'] = dist\n",
    "        print(self.training_df)\n",
    "        \n",
    "    def predict(self , test_df):\n",
    "        self.test_df = pd.DataFrame(data=test_df)\n",
    "        self.find_distance()\n",
    "        \n",
    "    def with_pandas_apply(self):\n",
    "        self.predict_df.loc[ : , : ].apply(find_dist)"
   ]
  },
  {
   "cell_type": "code",
   "execution_count": 147,
   "metadata": {},
   "outputs": [
    {
     "name": "stdout",
     "output_type": "stream",
     "text": [
      "<class 'pandas.core.series.Series'>\n",
      "<class 'pandas.core.series.Series'>\n",
      "<class 'pandas.core.series.Series'>\n",
      "<class 'pandas.core.series.Series'>\n",
      "<class 'pandas.core.series.Series'>\n"
     ]
    }
   ],
   "source": [
    "if __name__ == \"__main__\":\n",
    "    knn = KNN()\n",
    "    x , y = load_iris(return_X_y= True)\n",
    "    x_train , x_test , y_train , y_test = train_test_split(x , y , test_size = 0.3 , random_state = 400)\n",
    "    knn.fit(x_train,y_train)\n",
    "    #knn.predict([[6.3,3.3,4.7,1.6]])\n",
    "    knn.with_pandas_apply()"
   ]
  }
 ],
 "metadata": {
  "kernelspec": {
   "display_name": "Python 3",
   "language": "python",
   "name": "python3"
  },
  "language_info": {
   "codemirror_mode": {
    "name": "ipython",
    "version": 3
   },
   "file_extension": ".py",
   "mimetype": "text/x-python",
   "name": "python",
   "nbconvert_exporter": "python",
   "pygments_lexer": "ipython3",
   "version": "3.7.1"
  }
 },
 "nbformat": 4,
 "nbformat_minor": 2
}
